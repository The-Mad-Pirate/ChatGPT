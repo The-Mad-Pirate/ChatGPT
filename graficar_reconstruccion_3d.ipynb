{
 "cells": [
  {
   "cell_type": "markdown",
   "id": "2030711a",
   "metadata": {},
   "source": [
    "# Gráfico 3D de la Reconstrucción SUPPoSE"
   ]
  },
  {
   "cell_type": "code",
   "execution_count": null,
   "id": "522576bd",
   "metadata": {},
   "outputs": [],
   "source": [
    "\n",
    "import numpy as np\n",
    "import matplotlib.pyplot as plt\n",
    "from mpl_toolkits.mplot3d import Axes3D  # necesario para proyecciones 3D\n",
    "\n",
    "def graficar_3D_reconstruccion(imagen_2d, titulo=\"Reconstrucción 3D SUPPoSE\"):\n",
    "fig = plt.figure(figsize=(10, 6))\n",
    "ax = fig.add_subplot(111, projection='3d')\n",
    "h, w = imagen_2d.shape\n",
    "X = np.arange(w)\n",
    "Y = np.arange(h)\n",
    "X, Y = np.meshgrid(X, Y)\n",
    "ax.plot_surface(X, Y, imagen_2d, cmap='viridis', edgecolor='none', antialiased=True)\n",
    "ax.set_title(titulo)\n",
    "ax.set_xlabel(\"X\")\n",
    "ax.set_ylabel(\"Y\")\n",
    "ax.set_zlabel(\"Intensidad\")\n",
    "plt.tight_layout()\n",
    "plt.show()\n",
    "\n",
    "# Ejemplo de uso con una reconstrucción ficticia\n",
    "# Visualización directa\n",
    "reconstruida = np.load(\"reconstruida.npy\")  # Cargar matriz reconstruida\n",
    "graficar_3D_reconstruccion(reconstruida)\n"
   ]
  }
 ],
 "metadata": {},
 "nbformat": 4,
 "nbformat_minor": 5
}