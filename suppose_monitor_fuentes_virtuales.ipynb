{
 "cells": [
  {
   "cell_type": "markdown",
   "id": "ad659aca",
   "metadata": {},
   "source": [
    "# Monitoreo del Número de Fuentes Virtuales Efectivas durante Annealing"
   ]
  },
  {
   "cell_type": "code",
   "execution_count": null,
   "id": "aac1249d",
   "metadata": {},
   "outputs": [],
   "source": [
    "import numpy as np\n",
    "import matplotlib.pyplot as plt\n",
    "from skimage.feature import peak_local_max"
   ]
  },
  {
   "cell_type": "code",
   "execution_count": null,
   "id": "96989bc3",
   "metadata": {},
   "outputs": [],
   "source": [
    "\n",
    "from skimage.feature import peak_local_max\n",
    "\n",
    "def monitorear_fuentes_virtuales(rho_padded, offset, image_size, umbral_relativo=0.75, cada_n=100):\n",
    "    registros = []\n",
    "    for step, rho in enumerate(rho_padded):\n",
    "        if step % cada_n == 0:\n",
    "            rho_crop = rho[offset:offset + image_size, offset:offset + image_size]\n",
    "            umbral = umbral_relativo * np.max(rho_crop)\n",
    "            mascara = rho_crop > umbral\n",
    "            maximos = peak_local_max(rho_crop, min_distance=3, threshold_abs=umbral, labels=mascara)\n",
    "            registros.append((step, len(maximos)))\n",
    "    return np.array(registros)\n"
   ]
  },
  {
   "cell_type": "code",
   "execution_count": null,
   "id": "1a255c58",
   "metadata": {},
   "outputs": [],
   "source": [
    "\n",
    "# Ejemplo: simular 100 registros (rho_padded debe ser una lista de matrices rho a lo largo del tiempo)\n",
    "# Simulación ficticia para ilustrar\n",
    "simulado = [np.random.rand(256, 256) for _ in range(100000)]\n",
    "offset = 64\n",
    "image_size = 128\n",
    "evolucion = monitorear_fuentes_virtuales(simulado, offset, image_size, umbral_relativo=0.75, cada_n=100)\n",
    "\n",
    "plt.figure(figsize=(10,5))\n",
    "plt.plot(evolucion[:, 0], evolucion[:, 1], marker='o', markersize=3, linewidth=1)\n",
    "plt.title(\"Evolución del número de fuentes virtuales\")\n",
    "plt.xlabel(\"Paso de Langevin\")\n",
    "plt.ylabel(\"Número de fuentes virtuales efectivas\")\n",
    "plt.grid(True)\n",
    "plt.tight_layout()\n",
    "plt.show()\n"
   ]
  }
 ],
 "metadata": {},
 "nbformat": 4,
 "nbformat_minor": 5
}