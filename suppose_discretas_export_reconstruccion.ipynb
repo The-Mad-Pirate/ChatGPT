{
 "cells": [
  {
   "cell_type": "markdown",
   "id": "8fd1d28b",
   "metadata": {},
   "source": [
    "# Detección de Fuentes Discretas SUPPoSE\n",
    "Este notebook permite aplicar un umbral dinámico sobre un campo continuo ρ(x, y) y visualizar las fuentes discretas resultantes."
   ]
  },
  {
   "cell_type": "code",
   "execution_count": null,
   "id": "610d6917",
   "metadata": {},
   "outputs": [],
   "source": [
    "import numpy as np\n",
    "import matplotlib.pyplot as plt\n",
    "from skimage.feature import peak_local_max\n",
    "from skimage.draw import disk\n",
    "from ipywidgets import interact, FloatSlider"
   ]
  },
  {
   "cell_type": "code",
   "execution_count": null,
   "id": "bc21eb23",
   "metadata": {},
   "outputs": [],
   "source": [
    "\n",
    "def generar_anillo(shape=(128, 128), radio_ext=40, grosor=10):\n",
    "    imagen = np.zeros(shape, dtype=np.float32)\n",
    "    centro = (shape[0] // 2, shape[1] // 2)\n",
    "    rr_out, cc_out = disk(centro, radio_ext)\n",
    "    rr_in, cc_in = disk(centro, radio_ext - grosor)\n",
    "    imagen[rr_out, cc_out] = 1.0\n",
    "    imagen[rr_in, cc_in] = 0.0\n",
    "    return imagen\n",
    "\n",
    "np.random.seed(42)\n",
    "image_size = 128\n",
    "rho = np.random.rand(image_size, image_size)\n",
    "rho *= generar_anillo((image_size, image_size))\n"
   ]
  },
  {
   "cell_type": "code",
   "execution_count": null,
   "id": "ffe20f68",
   "metadata": {},
   "outputs": [],
   "source": [
    "\n",
    "def visualizar_fuentes_discretas(umbral_relativo=0.75):\n",
    "    umbral_valor = umbral_relativo * np.max(rho)\n",
    "    mascara = rho > umbral_valor\n",
    "    maximos = peak_local_max(rho, min_distance=3, threshold_abs=umbral_valor, labels=mascara)\n",
    "    rho_discreta = np.zeros_like(rho)\n",
    "    for y, x in maximos:\n",
    "        rho_discreta[y, x] = rho[y, x]\n",
    "\n",
    "    fig, ax = plt.subplots(figsize=(6, 6))\n",
    "    ax.imshow(rho, cmap='gray')\n",
    "    ax.scatter(maximos[:, 1], maximos[:, 0], color='red', s=20, label='Fuentes discretas')\n",
    "    ax.set_title(f\"Fuentes SUPPoSE (umbral {int(umbral_relativo*100)}%)\")\n",
    "    ax.axis('off')\n",
    "    ax.legend()\n",
    "    plt.show()\n"
   ]
  },
  {
   "cell_type": "code",
   "execution_count": null,
   "id": "97715315",
   "metadata": {},
   "outputs": [],
   "source": [
    "interact(visualizar_fuentes_discretas, umbral_relativo=FloatSlider(value=0.75, min=0.1, max=0.99, step=0.01))"
   ]
  },
  {
   "cell_type": "markdown",
   "id": "3952ff4f",
   "metadata": {},
   "source": [
    "## Exportar coordenadas de fuentes discretas a CSV"
   ]
  },
  {
   "cell_type": "code",
   "execution_count": null,
   "id": "08fcd20b",
   "metadata": {},
   "outputs": [],
   "source": [
    "\n",
    "import pandas as pd\n",
    "\n",
    "def exportar_fuentes_csv(rho, umbral_relativo=0.75, nombre_archivo=\"fuentes_discretas.csv\"):\n",
    "    umbral_valor = umbral_relativo * np.max(rho)\n",
    "    mascara = rho > umbral_valor\n",
    "    maximos = peak_local_max(rho, min_distance=3, threshold_abs=umbral_valor, labels=mascara)\n",
    "    intensidades = [rho[y, x] for y, x in maximos]\n",
    "    df = pd.DataFrame(maximos, columns=[\"y\", \"x\"])\n",
    "    df[\"intensidad\"] = intensidades\n",
    "    df.to_csv(nombre_archivo, index=False)\n",
    "    print(f\"Exportado a {nombre_archivo}\")\n"
   ]
  },
  {
   "cell_type": "code",
   "execution_count": null,
   "id": "c9c0b981",
   "metadata": {},
   "outputs": [],
   "source": [
    "exportar_fuentes_csv(rho, umbral_relativo=0.75)"
   ]
  },
  {
   "cell_type": "markdown",
   "id": "054578f1",
   "metadata": {},
   "source": [
    "## Reconstrucción desde archivo CSV"
   ]
  },
  {
   "cell_type": "code",
   "execution_count": null,
   "id": "375757d5",
   "metadata": {},
   "outputs": [],
   "source": [
    "\n",
    "import pandas as pd\n",
    "import numpy as np\n",
    "import matplotlib.pyplot as plt\n",
    "from scipy.ndimage import gaussian_filter\n",
    "\n",
    "def reconstruir_desde_csv(nombre_archivo, shape=(128, 128), sigma=2.0, plot=True):\n",
    "    df = pd.read_csv(nombre_archivo)\n",
    "    reconstruida = np.zeros(shape, dtype=np.float32)\n",
    "    for _, fila in df.iterrows():\n",
    "        y, x = int(fila['y']), int(fila['x'])\n",
    "        if 0 <= y < shape[0] and 0 <= x < shape[1]:\n",
    "            reconstruida[y, x] = fila['intensidad']\n",
    "    if sigma > 0:\n",
    "        reconstruida = gaussian_filter(reconstruida, sigma=sigma)\n",
    "    if plot:\n",
    "        plt.figure(figsize=(5, 5))\n",
    "        plt.imshow(reconstruida, cmap='gray')\n",
    "        plt.title(\"Reconstrucción desde fuentes CSV\")\n",
    "        plt.axis('off')\n",
    "        plt.show()\n",
    "    return reconstruida\n"
   ]
  },
  {
   "cell_type": "code",
   "execution_count": null,
   "id": "3fcc8573",
   "metadata": {},
   "outputs": [],
   "source": [
    "reconstruir_desde_csv(\"fuentes_discretas.csv\", shape=(128,128), sigma=2.0)"
   ]
  }
 ],
 "metadata": {},
 "nbformat": 4,
 "nbformat_minor": 5
}